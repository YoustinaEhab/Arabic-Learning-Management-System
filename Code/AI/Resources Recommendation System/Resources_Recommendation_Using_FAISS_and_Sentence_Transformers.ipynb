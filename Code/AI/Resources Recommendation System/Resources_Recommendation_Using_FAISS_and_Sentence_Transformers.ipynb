{
  "nbformat": 4,
  "nbformat_minor": 0,
  "metadata": {
    "colab": {
      "provenance": [],
      "gpuType": "T4"
    },
    "kernelspec": {
      "name": "python3",
      "display_name": "Python 3"
    },
    "language_info": {
      "name": "python"
    },
    "accelerator": "GPU",
    "widgets": {
      "application/vnd.jupyter.widget-state+json": {
        "7285266f67f14a5e8c62b72ed7b0b933": {
          "model_module": "@jupyter-widgets/controls",
          "model_name": "HBoxModel",
          "model_module_version": "1.5.0",
          "state": {
            "_dom_classes": [],
            "_model_module": "@jupyter-widgets/controls",
            "_model_module_version": "1.5.0",
            "_model_name": "HBoxModel",
            "_view_count": null,
            "_view_module": "@jupyter-widgets/controls",
            "_view_module_version": "1.5.0",
            "_view_name": "HBoxView",
            "box_style": "",
            "children": [
              "IPY_MODEL_cdd08078a9244da793391fceacc004b9",
              "IPY_MODEL_284387e8e5a7425bb4f17c943d1ffb36",
              "IPY_MODEL_650909dc7d45444c9140a25a84022379"
            ],
            "layout": "IPY_MODEL_6c887c7fff5c4d83999e010a2d5c6a10"
          }
        },
        "cdd08078a9244da793391fceacc004b9": {
          "model_module": "@jupyter-widgets/controls",
          "model_name": "HTMLModel",
          "model_module_version": "1.5.0",
          "state": {
            "_dom_classes": [],
            "_model_module": "@jupyter-widgets/controls",
            "_model_module_version": "1.5.0",
            "_model_name": "HTMLModel",
            "_view_count": null,
            "_view_module": "@jupyter-widgets/controls",
            "_view_module_version": "1.5.0",
            "_view_name": "HTMLView",
            "description": "",
            "description_tooltip": null,
            "layout": "IPY_MODEL_0f008fb4fc84497ab02ca3fdd78ff607",
            "placeholder": "​",
            "style": "IPY_MODEL_4d16b43539d94a86892123b0f35d9dea",
            "value": "model.safetensors:  52%"
          }
        },
        "284387e8e5a7425bb4f17c943d1ffb36": {
          "model_module": "@jupyter-widgets/controls",
          "model_name": "FloatProgressModel",
          "model_module_version": "1.5.0",
          "state": {
            "_dom_classes": [],
            "_model_module": "@jupyter-widgets/controls",
            "_model_module_version": "1.5.0",
            "_model_name": "FloatProgressModel",
            "_view_count": null,
            "_view_module": "@jupyter-widgets/controls",
            "_view_module_version": "1.5.0",
            "_view_name": "ProgressView",
            "bar_style": "danger",
            "description": "",
            "description_tooltip": null,
            "layout": "IPY_MODEL_6637688d3def41f88ec94bef45afaf50",
            "max": 2136944400,
            "min": 0,
            "orientation": "horizontal",
            "style": "IPY_MODEL_699f98e173ca4990b5d858323126ee62",
            "value": 1119825680
          }
        },
        "650909dc7d45444c9140a25a84022379": {
          "model_module": "@jupyter-widgets/controls",
          "model_name": "HTMLModel",
          "model_module_version": "1.5.0",
          "state": {
            "_dom_classes": [],
            "_model_module": "@jupyter-widgets/controls",
            "_model_module_version": "1.5.0",
            "_model_name": "HTMLModel",
            "_view_count": null,
            "_view_module": "@jupyter-widgets/controls",
            "_view_module_version": "1.5.0",
            "_view_name": "HTMLView",
            "description": "",
            "description_tooltip": null,
            "layout": "IPY_MODEL_d0c83132b2dd40f8abea759726288bb2",
            "placeholder": "​",
            "style": "IPY_MODEL_a69e639b58854037924dafa872f5c559",
            "value": " 1.12G/2.14G [00:00&lt;00:05, 183MB/s]"
          }
        },
        "6c887c7fff5c4d83999e010a2d5c6a10": {
          "model_module": "@jupyter-widgets/base",
          "model_name": "LayoutModel",
          "model_module_version": "1.2.0",
          "state": {
            "_model_module": "@jupyter-widgets/base",
            "_model_module_version": "1.2.0",
            "_model_name": "LayoutModel",
            "_view_count": null,
            "_view_module": "@jupyter-widgets/base",
            "_view_module_version": "1.2.0",
            "_view_name": "LayoutView",
            "align_content": null,
            "align_items": null,
            "align_self": null,
            "border": null,
            "bottom": null,
            "display": null,
            "flex": null,
            "flex_flow": null,
            "grid_area": null,
            "grid_auto_columns": null,
            "grid_auto_flow": null,
            "grid_auto_rows": null,
            "grid_column": null,
            "grid_gap": null,
            "grid_row": null,
            "grid_template_areas": null,
            "grid_template_columns": null,
            "grid_template_rows": null,
            "height": null,
            "justify_content": null,
            "justify_items": null,
            "left": null,
            "margin": null,
            "max_height": null,
            "max_width": null,
            "min_height": null,
            "min_width": null,
            "object_fit": null,
            "object_position": null,
            "order": null,
            "overflow": null,
            "overflow_x": null,
            "overflow_y": null,
            "padding": null,
            "right": null,
            "top": null,
            "visibility": null,
            "width": null
          }
        },
        "0f008fb4fc84497ab02ca3fdd78ff607": {
          "model_module": "@jupyter-widgets/base",
          "model_name": "LayoutModel",
          "model_module_version": "1.2.0",
          "state": {
            "_model_module": "@jupyter-widgets/base",
            "_model_module_version": "1.2.0",
            "_model_name": "LayoutModel",
            "_view_count": null,
            "_view_module": "@jupyter-widgets/base",
            "_view_module_version": "1.2.0",
            "_view_name": "LayoutView",
            "align_content": null,
            "align_items": null,
            "align_self": null,
            "border": null,
            "bottom": null,
            "display": null,
            "flex": null,
            "flex_flow": null,
            "grid_area": null,
            "grid_auto_columns": null,
            "grid_auto_flow": null,
            "grid_auto_rows": null,
            "grid_column": null,
            "grid_gap": null,
            "grid_row": null,
            "grid_template_areas": null,
            "grid_template_columns": null,
            "grid_template_rows": null,
            "height": null,
            "justify_content": null,
            "justify_items": null,
            "left": null,
            "margin": null,
            "max_height": null,
            "max_width": null,
            "min_height": null,
            "min_width": null,
            "object_fit": null,
            "object_position": null,
            "order": null,
            "overflow": null,
            "overflow_x": null,
            "overflow_y": null,
            "padding": null,
            "right": null,
            "top": null,
            "visibility": null,
            "width": null
          }
        },
        "4d16b43539d94a86892123b0f35d9dea": {
          "model_module": "@jupyter-widgets/controls",
          "model_name": "DescriptionStyleModel",
          "model_module_version": "1.5.0",
          "state": {
            "_model_module": "@jupyter-widgets/controls",
            "_model_module_version": "1.5.0",
            "_model_name": "DescriptionStyleModel",
            "_view_count": null,
            "_view_module": "@jupyter-widgets/base",
            "_view_module_version": "1.2.0",
            "_view_name": "StyleView",
            "description_width": ""
          }
        },
        "6637688d3def41f88ec94bef45afaf50": {
          "model_module": "@jupyter-widgets/base",
          "model_name": "LayoutModel",
          "model_module_version": "1.2.0",
          "state": {
            "_model_module": "@jupyter-widgets/base",
            "_model_module_version": "1.2.0",
            "_model_name": "LayoutModel",
            "_view_count": null,
            "_view_module": "@jupyter-widgets/base",
            "_view_module_version": "1.2.0",
            "_view_name": "LayoutView",
            "align_content": null,
            "align_items": null,
            "align_self": null,
            "border": null,
            "bottom": null,
            "display": null,
            "flex": null,
            "flex_flow": null,
            "grid_area": null,
            "grid_auto_columns": null,
            "grid_auto_flow": null,
            "grid_auto_rows": null,
            "grid_column": null,
            "grid_gap": null,
            "grid_row": null,
            "grid_template_areas": null,
            "grid_template_columns": null,
            "grid_template_rows": null,
            "height": null,
            "justify_content": null,
            "justify_items": null,
            "left": null,
            "margin": null,
            "max_height": null,
            "max_width": null,
            "min_height": null,
            "min_width": null,
            "object_fit": null,
            "object_position": null,
            "order": null,
            "overflow": null,
            "overflow_x": null,
            "overflow_y": null,
            "padding": null,
            "right": null,
            "top": null,
            "visibility": null,
            "width": null
          }
        },
        "699f98e173ca4990b5d858323126ee62": {
          "model_module": "@jupyter-widgets/controls",
          "model_name": "ProgressStyleModel",
          "model_module_version": "1.5.0",
          "state": {
            "_model_module": "@jupyter-widgets/controls",
            "_model_module_version": "1.5.0",
            "_model_name": "ProgressStyleModel",
            "_view_count": null,
            "_view_module": "@jupyter-widgets/base",
            "_view_module_version": "1.2.0",
            "_view_name": "StyleView",
            "bar_color": null,
            "description_width": ""
          }
        },
        "d0c83132b2dd40f8abea759726288bb2": {
          "model_module": "@jupyter-widgets/base",
          "model_name": "LayoutModel",
          "model_module_version": "1.2.0",
          "state": {
            "_model_module": "@jupyter-widgets/base",
            "_model_module_version": "1.2.0",
            "_model_name": "LayoutModel",
            "_view_count": null,
            "_view_module": "@jupyter-widgets/base",
            "_view_module_version": "1.2.0",
            "_view_name": "LayoutView",
            "align_content": null,
            "align_items": null,
            "align_self": null,
            "border": null,
            "bottom": null,
            "display": null,
            "flex": null,
            "flex_flow": null,
            "grid_area": null,
            "grid_auto_columns": null,
            "grid_auto_flow": null,
            "grid_auto_rows": null,
            "grid_column": null,
            "grid_gap": null,
            "grid_row": null,
            "grid_template_areas": null,
            "grid_template_columns": null,
            "grid_template_rows": null,
            "height": null,
            "justify_content": null,
            "justify_items": null,
            "left": null,
            "margin": null,
            "max_height": null,
            "max_width": null,
            "min_height": null,
            "min_width": null,
            "object_fit": null,
            "object_position": null,
            "order": null,
            "overflow": null,
            "overflow_x": null,
            "overflow_y": null,
            "padding": null,
            "right": null,
            "top": null,
            "visibility": null,
            "width": null
          }
        },
        "a69e639b58854037924dafa872f5c559": {
          "model_module": "@jupyter-widgets/controls",
          "model_name": "DescriptionStyleModel",
          "model_module_version": "1.5.0",
          "state": {
            "_model_module": "@jupyter-widgets/controls",
            "_model_module_version": "1.5.0",
            "_model_name": "DescriptionStyleModel",
            "_view_count": null,
            "_view_module": "@jupyter-widgets/base",
            "_view_module_version": "1.2.0",
            "_view_name": "StyleView",
            "description_width": ""
          }
        }
      }
    }
  },
  "cells": [
    {
      "cell_type": "markdown",
      "source": [
        "# **FAISS**"
      ],
      "metadata": {
        "id": "IBJKNfxyrNBK"
      }
    },
    {
      "cell_type": "markdown",
      "source": [
        "#  ***Loading Data***"
      ],
      "metadata": {
        "id": "UaAhftMprSx3"
      }
    },
    {
      "cell_type": "code",
      "execution_count": null,
      "metadata": {
        "colab": {
          "base_uri": "https://localhost:8080/"
        },
        "id": "wRgZ16N2dB-P",
        "outputId": "845efd0a-d768-401c-8955-fc7a4471d3c1"
      },
      "outputs": [
        {
          "output_type": "stream",
          "name": "stdout",
          "text": [
            "fatal: destination path 'Arabic-Dataset' already exists and is not an empty directory.\n"
          ]
        }
      ],
      "source": [
        "!git clone https://github.com/YoustinaEhab/Arabic-Dataset.git"
      ]
    },
    {
      "cell_type": "code",
      "source": [
        "import json"
      ],
      "metadata": {
        "id": "1ziGTbhgo0Zq"
      },
      "execution_count": null,
      "outputs": []
    },
    {
      "cell_type": "code",
      "source": [
        "with open('Arabic-Dataset/all_data.json', 'r', encoding='utf-8') as f:\n",
        "    data = json.load(f)"
      ],
      "metadata": {
        "id": "2DfJeFr_o1-R"
      },
      "execution_count": null,
      "outputs": []
    },
    {
      "cell_type": "code",
      "source": [
        "paragraphs = [entry['paragraph'] for entry in data if 'paragraph' in entry]\n",
        "metadata = [{'topic': entry['topic']} for entry in data if 'topic' in entry]"
      ],
      "metadata": {
        "id": "ybhBZSB7o3lf"
      },
      "execution_count": null,
      "outputs": []
    },
    {
      "cell_type": "code",
      "source": [
        "print(f\"Loaded {len(paragraphs)} paragraphs!\")\n",
        "print(paragraphs[:2])"
      ],
      "metadata": {
        "colab": {
          "base_uri": "https://localhost:8080/"
        },
        "id": "usIxG_mLo5QA",
        "outputId": "0ee15e8f-c788-4460-a148-e8206870152e"
      },
      "execution_count": null,
      "outputs": [
        {
          "output_type": "stream",
          "name": "stdout",
          "text": [
            "Loaded 951 paragraphs!\n",
            "['دخلت الدولة العثمانية الحرب العالمية الأولى إلى جانب (ألمانيا والنمسا) على أمل استرداد ما اقتنصته منها دول الوفاق (إنجلترا وفرنسا) وإنقاذاً لنفسها ولما تبقى تحت يدها من ولايات عربية من مخططات اقتسام دول الوفاق (إنجلترا/فرنسا) للدولة العثمانية فيما بينهم. وبينما كانت الحرب لا تزال فى أيامها الأولى قام الأسطول العثمانى – مدعماً بقطعتين حربيتين ألمانيتى الأصل- بقصف ميناء أوديسا وميناء سباستبول الروسيين معلنة (الجهاد) المقدس فى نوفمبر ١٩١٤ م، وقد كان لهذا النداء (الجهاد) صدى قويا بين المسلمين، وكان مزعجاً لإنجلترا التى كانت تحكم الهند وجنوب شرق آسيا (حوالى ٥٠ مليوناً من المسلمين على الأقل)، وتسعى لإبقاء تركيا على الحياد ولكن بخروج تركيا عن حيادها وضربها الموانىء الروسية انضم البريطانيون تمامًا إلى الجانب العربى لتحرير العرب من قيودهم وكانت تلك خدعة بريطانية. أما فى البلاد العربية فقد آثار إعلان الجهاد حماساً، ثم لم يلبث أن ساد الحذر بين زعماء العرب، فقد كانت الأزمة بين العرب والترك لا تزال قائمة، بسبب سياسة التتريك التى اتبعتها الدولة العثمانية،والتى تهدف إلى تهميش العنصر العربى، ولم يؤد المؤتمر العربى الأول فى باريس ولا التسوية العربية التركية التى أعقبته إلى نتائج مرضية، ولذلك نما تيار فكرى يدعو إلى التريث فى تأييد فعلى للدولة العثمانية فى الحرب والاتصال بكافة الأطراف المعنية لمعرفة موقفها من المطالب العربية على أن الدور الذى قام به الشريف حسين بن على شريف مكة كان هو أبرز الأدوار العربية خلال الحرب العالمية الأولى.', 'قلب احتلال كل من قبرص ومصر الأوضاع رأسًا على عقب، فمنذ ذلك الوقت أخذت بريطانيا تثبت مركزها فى الشرق العربى وتفكر جديًّا فى تقسيم الدولة العثمانية. وساءت العلاقات بين الدولة العثمانية وبريطانيا إثر احتلال الأخيرة لمصر ووضوح سياستها الحقيقية. ولذلك شهدت السنوات الأخيرة من القرن التاسع عشر حلول ألمانيا محل بريطانيا وحرصت ألمانيا على توثيق علاقاتها مع الباب العالى. وأحدثت سياسة القيصر الألمانى غليوم الثانى، التى كانت تعرف بسياسة الزحف شرقاً تغيرًا واضحاً فى السياسة الألمانية بالنسبة للدولة العثمانية وأخذ التغلغل الألمانى أشكالاً متعددة عسكرية واقتصادية وثقافية ونفسية. وأوجست بريطانيا خيفة من المشروعات الألمانية التى أيدتها فى أول الأمر، كخط سكة حديد بغداد، وإهتمام الحكومة الألمانية بتقوية أسطولها التجارى والحربى حتى أصبحت بريطانيا تخشى على سيادتها البحرية. والواقع أن النفوذ الألمانى والتغلغل الاقتصادى فى الدولة العثمانية كانا نقطة تحول مهمة فى تاريخ المسألة الشرقية فى العصر الحديث. المؤتمر العربى فى باريس ١٩١٣م: انعقد المؤتمر العربى الأول فى باريس عام ١٩١٣م وأوصى ببعض القرارات بهدف تحديد القومية العربية وأهدافها، وبهدف إعطاء العنصر العربى حقه فى الحكم وانزعجت الحكومة العثمانية من قرارات المؤتمر، والتى تمثلت فى: • جعل الخدمة العسكرية محلية أى فى الولايات العربية فقط لأبناء العرب. • استخدام اللغة العربية كلغة تعلم فى المدارس بالمرحلتين الابتدائية والثانوية. • تعيين العرب فى مناصب الوزراء. ولكن فشل المؤتمر فى تحقيق تلك القرارات مما أدى إلى نمو الحركة الانفصالية عن الدولة العثمانية.']\n"
          ]
        }
      ]
    },
    {
      "cell_type": "code",
      "source": [
        "# Create paragraph IDs\n",
        "paragraphs_id = [str(i) for i in range(len(paragraphs))]"
      ],
      "metadata": {
        "id": "vS6niRVAo7TI"
      },
      "execution_count": null,
      "outputs": []
    },
    {
      "cell_type": "markdown",
      "source": [
        "# ***Text to Vector***"
      ],
      "metadata": {
        "id": "t9sUteqwra_o"
      }
    },
    {
      "cell_type": "code",
      "source": [
        "!pip install numpy<2.0 faiss-gpu-cu11 --force-reinstall"
      ],
      "metadata": {
        "colab": {
          "base_uri": "https://localhost:8080/"
        },
        "id": "3gNy7hWxs07n",
        "outputId": "d2c5cdb7-4353-4404-8db7-adca3f885894"
      },
      "execution_count": null,
      "outputs": [
        {
          "output_type": "stream",
          "name": "stdout",
          "text": [
            "/bin/bash: line 1: 2.0: No such file or directory\n"
          ]
        }
      ]
    },
    {
      "cell_type": "code",
      "source": [
        "#!pip install faiss-cpu==1.11.0"
      ],
      "metadata": {
        "id": "2dUPMnX6sz4h"
      },
      "execution_count": null,
      "outputs": []
    },
    {
      "cell_type": "code",
      "source": [
        "# !pip uninstall numpy -y\n",
        "# !pip install numpy --upgrade --force-reinstall"
      ],
      "metadata": {
        "id": "LWoWmYU_R3DK"
      },
      "execution_count": null,
      "outputs": []
    },
    {
      "cell_type": "code",
      "source": [
        "# !pip install --upgrade --force-reinstall transformers faiss-cpu"
      ],
      "metadata": {
        "id": "3Nq4S4EwSM-S"
      },
      "execution_count": null,
      "outputs": []
    },
    {
      "cell_type": "code",
      "source": [
        "import json\n",
        "import torch\n",
        "import torch.nn.functional as F\n",
        "from transformers import AutoTokenizer, AutoModel\n",
        "import numpy as np\n",
        "import faiss\n",
        "from copy import deepcopy\n",
        "import pickle\n",
        "import os"
      ],
      "metadata": {
        "id": "s8Eou0YIl-Ni"
      },
      "execution_count": null,
      "outputs": []
    },
    {
      "cell_type": "code",
      "source": [
        "def average_pool(last_hidden_states: torch.Tensor, attention_mask: torch.Tensor) -> torch.Tensor:\n",
        "    last_hidden = last_hidden_states.masked_fill(~attention_mask.unsqueeze(-1).bool(), 0.0)\n",
        "    return last_hidden.sum(dim=1) / attention_mask.sum(dim=1, keepdim=True)"
      ],
      "metadata": {
        "id": "r2B1wRbMwpvA"
      },
      "execution_count": null,
      "outputs": []
    },
    {
      "cell_type": "code",
      "source": [
        "device = torch.device(\"cuda\" if torch.cuda.is_available() else \"cpu\")\n",
        "\n",
        "# Load tokenizer and model\n",
        "model_id = 'intfloat/multilingual-e5-large-instruct'\n",
        "#model_id = 'intfloat/multilingual-e5-large'\n",
        "tokenizer = AutoTokenizer.from_pretrained(model_id)\n",
        "model = AutoModel.from_pretrained(model_id).to(device)\n",
        "model.eval()"
      ],
      "metadata": {
        "colab": {
          "base_uri": "https://localhost:8080/",
          "height": 885,
          "referenced_widgets": [
            "7285266f67f14a5e8c62b72ed7b0b933",
            "cdd08078a9244da793391fceacc004b9",
            "284387e8e5a7425bb4f17c943d1ffb36",
            "650909dc7d45444c9140a25a84022379",
            "6c887c7fff5c4d83999e010a2d5c6a10",
            "0f008fb4fc84497ab02ca3fdd78ff607",
            "4d16b43539d94a86892123b0f35d9dea",
            "6637688d3def41f88ec94bef45afaf50",
            "699f98e173ca4990b5d858323126ee62",
            "d0c83132b2dd40f8abea759726288bb2",
            "a69e639b58854037924dafa872f5c559"
          ]
        },
        "id": "CfeN_0G_wqQ3",
        "outputId": "5c5a3303-556f-4907-dd67-8b62a26569ee"
      },
      "execution_count": null,
      "outputs": [
        {
          "output_type": "stream",
          "name": "stderr",
          "text": [
            "/usr/local/lib/python3.11/dist-packages/huggingface_hub/utils/_auth.py:94: UserWarning: \n",
            "The secret `HF_TOKEN` does not exist in your Colab secrets.\n",
            "To authenticate with the Hugging Face Hub, create a token in your settings tab (https://huggingface.co/settings/tokens), set it as secret in your Google Colab and restart your session.\n",
            "You will be able to reuse this secret in all of your notebooks.\n",
            "Please note that authentication is recommended but still optional to access public models or datasets.\n",
            "  warnings.warn(\n"
          ]
        },
        {
          "output_type": "display_data",
          "data": {
            "text/plain": [
              "model.safetensors:  48%|####7     | 1.02G/2.14G [00:00<?, ?B/s]"
            ],
            "application/vnd.jupyter.widget-view+json": {
              "version_major": 2,
              "version_minor": 0,
              "model_id": "7285266f67f14a5e8c62b72ed7b0b933"
            }
          },
          "metadata": {}
        },
        {
          "output_type": "execute_result",
          "data": {
            "text/plain": [
              "XLMRobertaModel(\n",
              "  (embeddings): XLMRobertaEmbeddings(\n",
              "    (word_embeddings): Embedding(250002, 1024, padding_idx=1)\n",
              "    (position_embeddings): Embedding(514, 1024, padding_idx=1)\n",
              "    (token_type_embeddings): Embedding(1, 1024)\n",
              "    (LayerNorm): LayerNorm((1024,), eps=1e-05, elementwise_affine=True)\n",
              "    (dropout): Dropout(p=0.1, inplace=False)\n",
              "  )\n",
              "  (encoder): XLMRobertaEncoder(\n",
              "    (layer): ModuleList(\n",
              "      (0-23): 24 x XLMRobertaLayer(\n",
              "        (attention): XLMRobertaAttention(\n",
              "          (self): XLMRobertaSdpaSelfAttention(\n",
              "            (query): Linear(in_features=1024, out_features=1024, bias=True)\n",
              "            (key): Linear(in_features=1024, out_features=1024, bias=True)\n",
              "            (value): Linear(in_features=1024, out_features=1024, bias=True)\n",
              "            (dropout): Dropout(p=0.1, inplace=False)\n",
              "          )\n",
              "          (output): XLMRobertaSelfOutput(\n",
              "            (dense): Linear(in_features=1024, out_features=1024, bias=True)\n",
              "            (LayerNorm): LayerNorm((1024,), eps=1e-05, elementwise_affine=True)\n",
              "            (dropout): Dropout(p=0.1, inplace=False)\n",
              "          )\n",
              "        )\n",
              "        (intermediate): XLMRobertaIntermediate(\n",
              "          (dense): Linear(in_features=1024, out_features=4096, bias=True)\n",
              "          (intermediate_act_fn): GELUActivation()\n",
              "        )\n",
              "        (output): XLMRobertaOutput(\n",
              "          (dense): Linear(in_features=4096, out_features=1024, bias=True)\n",
              "          (LayerNorm): LayerNorm((1024,), eps=1e-05, elementwise_affine=True)\n",
              "          (dropout): Dropout(p=0.1, inplace=False)\n",
              "        )\n",
              "      )\n",
              "    )\n",
              "  )\n",
              "  (pooler): XLMRobertaPooler(\n",
              "    (dense): Linear(in_features=1024, out_features=1024, bias=True)\n",
              "    (activation): Tanh()\n",
              "  )\n",
              ")"
            ]
          },
          "metadata": {},
          "execution_count": 36
        }
      ]
    },
    {
      "cell_type": "code",
      "source": [
        "import time\n",
        "start_time = time.time()"
      ],
      "metadata": {
        "id": "voam0XroF88C"
      },
      "execution_count": null,
      "outputs": []
    },
    {
      "cell_type": "code",
      "source": [
        "batch_size = 16\n",
        "encoded_paragraphs = []\n",
        "\n",
        "for i in range(0, len(paragraphs), batch_size):\n",
        "    batch = paragraphs[i:i+batch_size]\n",
        "    batch_encoding = tokenizer(batch, max_length=512, padding=True, truncation=True, return_tensors='pt').to(device)\n",
        "    with torch.no_grad():\n",
        "        outputs = model(**batch_encoding)\n",
        "        embeddings = average_pool(outputs.last_hidden_state, batch_encoding['attention_mask'])\n",
        "        embeddings = F.normalize(embeddings, p=2, dim=1)\n",
        "    encoded_paragraphs.append(embeddings.cpu().numpy())\n",
        "\n",
        "encoded_paragraphs = np.vstack(encoded_paragraphs).astype(np.float32)"
      ],
      "metadata": {
        "id": "fYGYsLUEwzay"
      },
      "execution_count": null,
      "outputs": []
    },
    {
      "cell_type": "code",
      "source": [
        "embedding_time = time.time() - start_time\n",
        "print(f\"Embedding Time: {embedding_time:.2f} seconds\")"
      ],
      "metadata": {
        "id": "dvIQ3J8TGGse",
        "colab": {
          "base_uri": "https://localhost:8080/"
        },
        "outputId": "0e0b269b-295e-4681-a868-4a43d1a2a3e4"
      },
      "execution_count": null,
      "outputs": [
        {
          "output_type": "stream",
          "name": "stdout",
          "text": [
            "Embedding Time: 50.31 seconds\n"
          ]
        }
      ]
    },
    {
      "cell_type": "code",
      "source": [
        "faiss.normalize_L2(encoded_paragraphs)\n",
        "\n",
        "dim = encoded_paragraphs.shape[1]\n",
        "\n",
        "start_time = time.time()\n",
        "\n",
        "# Create FAISS index (Inner Product = cosine similarity for normalized vectors)\n",
        "faiss_index = faiss.IndexIDMap(faiss.IndexFlatIP(dim))\n",
        "faiss_index.add_with_ids(encoded_paragraphs, paragraphs_id)\n",
        "\n",
        "print(f\"FAISS index built with {faiss_index.ntotal} vectors.\")\n",
        "indexing_time = time.time() - start_time\n",
        "print(f\"FAISS Index Creation Time: {indexing_time:.2f} seconds\")"
      ],
      "metadata": {
        "colab": {
          "base_uri": "https://localhost:8080/"
        },
        "id": "X4Xz3uvQw9N0",
        "outputId": "7b3cf938-17ac-4fca-d5e1-3bb9863590f7"
      },
      "execution_count": null,
      "outputs": [
        {
          "output_type": "stream",
          "name": "stdout",
          "text": [
            "FAISS index built with 951 vectors.\n",
            "FAISS Index Creation Time: 0.00 seconds\n"
          ]
        }
      ]
    },
    {
      "cell_type": "code",
      "source": [
        "subject_interests = [\"الأدب العربي\", \"التاريخ\", \"علوم\", \"الرياضيات\"]\n",
        "question_domain = ['Applying', 'Analyzing', 'Understanding', 'Creating', 'Remembering', 'Evaluating']\n",
        "difficulty_levels = [\"سهل\", \"متوسط\", \"صعب\"]\n",
        "\n",
        "# Example interests\n",
        "selected_interests = [\"التاريخ\", \"متوسط\", \"Remembering\"]\n",
        "\n",
        "start_time = time.time()\n",
        "\n",
        "query_string = \" \".join(selected_interests)"
      ],
      "metadata": {
        "id": "_bdzmNFCxTn5"
      },
      "execution_count": null,
      "outputs": []
    },
    {
      "cell_type": "code",
      "source": [
        "query_encoding = tokenizer([query_string], max_length=512, padding=True, truncation=True, return_tensors='pt').to(device)\n",
        "with torch.no_grad():\n",
        "    query_outputs = model(**query_encoding)\n",
        "    query_embedding = average_pool(query_outputs.last_hidden_state, query_encoding['attention_mask'])\n",
        "    query_embedding = F.normalize(query_embedding, p=2, dim=1)\n",
        "query_embedding_np = query_embedding.cpu().numpy().astype(np.float32)"
      ],
      "metadata": {
        "id": "T9fCSBmxxftc"
      },
      "execution_count": null,
      "outputs": []
    },
    {
      "cell_type": "code",
      "source": [
        "query_time = time.time() - start_time\n",
        "print(f\"ChromaDB Query Time: {query_time:.2f} seconds\")"
      ],
      "metadata": {
        "id": "Jvo6Em12Giy9",
        "colab": {
          "base_uri": "https://localhost:8080/"
        },
        "outputId": "7bd13d1a-75a5-44de-f82f-ec34254e2464"
      },
      "execution_count": null,
      "outputs": [
        {
          "output_type": "stream",
          "name": "stdout",
          "text": [
            "ChromaDB Query Time: 0.07 seconds\n"
          ]
        }
      ]
    },
    {
      "cell_type": "code",
      "source": [
        "# Normalize query embedding (for consistency)\n",
        "faiss.normalize_L2(query_embedding_np)\n",
        "\n",
        "# Search top 5 most similar paragraphs\n",
        "results = faiss_index.search(query_embedding_np, 5)"
      ],
      "metadata": {
        "id": "cqcxJfEFxjTg"
      },
      "execution_count": null,
      "outputs": []
    },
    {
      "cell_type": "code",
      "source": [
        "import os\n",
        "import pickle\n",
        "\n",
        "start_time = time.time()\n",
        "\n",
        "# ✅ Ensure the directory exists\n",
        "os.makedirs('/content/faiss-History_docs', exist_ok=True)\n",
        "\n",
        "# ✅ Save FAISS index and metadata\n",
        "with open('/content/faiss-History_docs/index.pickle', 'wb') as handle:\n",
        "    pickle.dump(faiss_index, handle, protocol=pickle.HIGHEST_PROTOCOL)\n",
        "\n",
        "with open('/content/faiss-History_docs/data.pickle', 'wb') as handle:\n",
        "    pickle.dump(\n",
        "        {\"data\": paragraphs, \"ids\": paragraphs_id, \"metadata\": metadata},\n",
        "        handle,\n",
        "        protocol=pickle.HIGHEST_PROTOCOL\n",
        "    )\n",
        "\n",
        "saving_time = time.time() - start_time\n",
        "print(f\"FAISS Index & Metadata Saving Time: {saving_time:.2f} seconds\")\n",
        "\n",
        "\n",
        "#Load\n",
        "import pickle\n",
        "\n",
        "with open('/content/faiss-History_docs/index.pickle','rb') as handle:\n",
        "  loaded_faiss_index = pickle.load(handle)\n",
        "\n",
        "with open('/content/faiss-History_docs/data.pickle','rb') as handle:\n",
        "  loaded_faiss_data = pickle.load(handle)"
      ],
      "metadata": {
        "id": "2w1J32U9zSp8",
        "colab": {
          "base_uri": "https://localhost:8080/"
        },
        "outputId": "392bdb6d-4ba5-4b72-bade-4505f9e78a40"
      },
      "execution_count": null,
      "outputs": [
        {
          "output_type": "stream",
          "name": "stdout",
          "text": [
            "FAISS Index & Metadata Saving Time: 0.01 seconds\n"
          ]
        }
      ]
    },
    {
      "cell_type": "code",
      "source": [
        "loaded_faiss_data.keys()"
      ],
      "metadata": {
        "colab": {
          "base_uri": "https://localhost:8080/"
        },
        "id": "RQYI2vcjNR-I",
        "outputId": "f5541d07-fdbe-4daf-fbfd-6ca57b80d607"
      },
      "execution_count": null,
      "outputs": [
        {
          "output_type": "execute_result",
          "data": {
            "text/plain": [
              "dict_keys(['data', 'ids', 'metadata'])"
            ]
          },
          "metadata": {},
          "execution_count": 46
        }
      ]
    },
    {
      "cell_type": "code",
      "source": [
        "total_time = embedding_time + indexing_time + query_time + saving_time\n",
        "print(\"\\n--- Total Pipeline Timing ---\")\n",
        "print(f\"Total Time: {total_time:.2f} seconds\")\n",
        "print(f\"  Embedding: {embedding_time:.2f}s\")\n",
        "print(f\"  Insertion: {indexing_time:.2f}s\")\n",
        "print(f\"  Saving: {saving_time:.2f}s\")\n",
        "print(f\"  Query:     {query_time:.2f}s\")"
      ],
      "metadata": {
        "colab": {
          "base_uri": "https://localhost:8080/"
        },
        "id": "6kow9LVKRGv9",
        "outputId": "29bc1e77-c249-44c1-d9d5-7adb292b1e2b"
      },
      "execution_count": null,
      "outputs": [
        {
          "output_type": "stream",
          "name": "stdout",
          "text": [
            "\n",
            "--- Total Pipeline Timing ---\n",
            "Total Time: 50.39 seconds\n",
            "  Embedding: 50.31s\n",
            "  Insertion: 0.00s\n",
            "  Saving: 0.01s\n",
            "  Query:     0.07s\n"
          ]
        }
      ]
    },
    {
      "cell_type": "code",
      "source": [
        "distances, indices = results\n",
        "id_to_data = dict(zip(loaded_faiss_data[\"ids\"], zip(loaded_faiss_data[\"data\"], loaded_faiss_data[\"metadata\"])))\n",
        "\n",
        "print(\"Top matching paragraphs and their similarity scores:\")\n",
        "for i, doc_id in enumerate(indices[0]):\n",
        "    str_doc_id = str(doc_id)  # Ensure ID is a string for lookup\n",
        "    if str_doc_id in id_to_data:\n",
        "        paragraph, meta = id_to_data[str_doc_id]\n",
        "        similarity = distances[0][i]\n",
        "        print(f\"\\nParagraph ID: {str_doc_id}\")\n",
        "        print(f\"Similarity Score: {similarity:.4f}\")\n",
        "        print(f\"Paragraph: {paragraph}\")\n",
        "        print(f\"Metadata: {meta}\")\n",
        "    else:\n",
        "        print(f\"Warning: Could not find ID {str_doc_id} in loaded data.\")"
      ],
      "metadata": {
        "colab": {
          "base_uri": "https://localhost:8080/"
        },
        "id": "u7i1DpTaNVRW",
        "outputId": "fe1632ee-6df2-4d05-d013-907b6ec1ce87"
      },
      "execution_count": null,
      "outputs": [
        {
          "output_type": "stream",
          "name": "stdout",
          "text": [
            "Top matching paragraphs and their similarity scores:\n",
            "\n",
            "Paragraph ID: 452\n",
            "Similarity Score: 0.8626\n",
            "Paragraph: مراحل الدعوة الإسلامية - المرحلة المكية\n",
            "Metadata: {'topic': 'الدعوة السرية والجهرية وأساليب المعارضة'}\n",
            "\n",
            "Paragraph ID: 360\n",
            "Similarity Score: 0.8502\n",
            "Paragraph: الموضوع: العصور التاريخية مفاهيم أساسية * عصور تاريخية: هى الفترة الزمنية التى عاش فيها الإنسان بعد معرفة الكتابة. * عصور ما قبل التاريخ: هى الفترة الزمنية التى عاش فيها الإنسان قبل معرفة الكتابة.\n",
            "Metadata: {'topic': 'مفاهيم العصور التاريخية'}\n",
            "\n",
            "Paragraph ID: 200\n",
            "Similarity Score: 0.8284\n",
            "Paragraph: نظام ملكى: هو نظام حكم وراثى يعتمد على الطبقة الأرستقراطية أى النبلاء.\n",
            "Metadata: {'topic': 'مفاهيم أساسية - النظام الملكي'}\n",
            "\n",
            "Paragraph ID: 369\n",
            "Similarity Score: 0.8271\n",
            "Paragraph: 2ـ العصور الوسطى وتبدأ منذ سنة ٤٧٦م بسقوط روما وحتى سنة ١٤٥٣م تاريخ سقوط القسطنطينية عاصمة الدولة البيزنطية على يد القائد العثمانى محمد الفاتح، وقد تميز هذا العصر بالعديد من الملامح …\n",
            "Metadata: {'topic': 'العصور الوسطى'}\n",
            "\n",
            "Paragraph ID: 375\n",
            "Similarity Score: 0.8239\n",
            "Paragraph: الموضوع: ملامح من تاريخ مصر القديمة مفاهيم أساسية ⯌عصر عتيق:هو العصر الذى يسبق عصر الدولة القديمة، ويشمل الأسرتين الأولى والثانية، ويعرف بالعتيق لأنه أقدم عصر للفراعنة فى مصر. ⯌اضمحلال حالة من الضعف والتدهور التى تسود فى فترات تاريخية معينة؛ نتيجة ضعف الملوك. ⯌هكسوس:قبائل قدمت من المناطق الآسيوية، وهم شعوب بدائية من أصول مختلفة هاجرت تباعًا من مناطق فى أواسط آسيا، ثم أخذت تتدفق على بلاد عدة، ومن بينها مصر عبر برزخ السويس فى القرن الثامن عشر قبل الميلاد. وقد أطلق عليهم مانيتون اسم الملوك الرعاة.\n",
            "Metadata: {'topic': 'مفاهيم أساسية في تاريخ مصر القديمة'}\n"
          ]
        }
      ]
    }
  ]
}